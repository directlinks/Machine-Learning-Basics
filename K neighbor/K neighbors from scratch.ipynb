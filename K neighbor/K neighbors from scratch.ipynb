{
 "cells": [
  {
   "cell_type": "code",
   "execution_count": 3,
   "metadata": {},
   "outputs": [],
   "source": [
    "import numpy as np\n",
    "import pandas as pd\n",
    "import matplotlib.pyplot as plt\n",
    "from matplotlib import style\n",
    "style.use(\"fivethirtyeight\")\n",
    "import warnings\n",
    "from collections import Counter\n",
    "from math import sqrt"
   ]
  },
  {
   "cell_type": "code",
   "execution_count": 51,
   "metadata": {},
   "outputs": [],
   "source": [
    "dataset={\"k\":[[1,2],[2,3],[3,1]],\"r\":[[6,5],[7,7],[8,6]]}\n",
    "\n",
    "predict=[5,7]"
   ]
  },
  {
   "cell_type": "code",
   "execution_count": 52,
   "metadata": {},
   "outputs": [
    {
     "name": "stdout",
     "output_type": "stream",
     "text": [
      "[[6.4031242374328485, 'k'], [5.0, 'k'], [6.324555320336759, 'k'], [2.23606797749979, 'r'], [2.0, 'r'], [3.1622776601683795, 'r']]\n"
     ]
    }
   ],
   "source": [
    "################################################# K neighbors ###########################################################\n",
    "\n",
    "def k_neighbors(data,predict,k=3):\n",
    "    if len(data)>=k:\n",
    "        warnings.warn(\"data has less length\")\n",
    "    euclidean_distance=[]\n",
    "    for i in data:\n",
    "        for j in data[i]:\n",
    "            distance=np.linalg.norm(np.array(j)-np.array(predict))\n",
    "            euclidean_distance.append([distance,i])\n",
    "    print euclidean_distance\n",
    "    \n",
    "    lis=[]\n",
    "    \n",
    "    for i in sorted(euclidean_distance)[:k]:\n",
    "        lis.append(i[1])\n",
    "        \n",
    "    closest_group= Counter(lis).most_common(1)[0][0] \n",
    "    return closest_group\n",
    "    \n",
    "color_of_resultant_group=k_neighbors(dataset,predict)"
   ]
  },
  {
   "cell_type": "code",
   "execution_count": 53,
   "metadata": {},
   "outputs": [
    {
     "data": {
      "image/png": "[encoded data removed]",
      "text/plain": [
       "<Figure size 432x288 with 1 Axes>"
      ]
     },
     "metadata": {},
     "output_type": "display_data"
    }
   ],
   "source": [
    "###################################################### plotting #####################################################\n",
    "for i in dataset:\n",
    "    for j in dataset[i]:\n",
    "        plt.scatter(j[0],j[1], s=100, color=i)\n",
    "        \n",
    "plt.scatter(predict[0],predict[1], s=300,color=color_of_resultant_group)\n",
    "plt.show()\n",
    "        "
   ]
  },
  {
   "cell_type": "code",
   "execution_count": null,
   "metadata": {},
   "outputs": [],
   "source": []
  }
 ],
 "metadata": {
  "kernelspec": {
   "display_name": "Python 2",
   "language": "python",
   "name": "python2"
  },
  "language_info": {
   "codemirror_mode": {
    "name": "ipython",
    "version": 2
   },
   "file_extension": ".py",
   "mimetype": "text/x-python",
   "name": "python",
   "nbconvert_exporter": "python",
   "pygments_lexer": "ipython2",
   "version": "2.7.15"
  }
 },
 "nbformat": 4,
 "nbformat_minor": 2
}
